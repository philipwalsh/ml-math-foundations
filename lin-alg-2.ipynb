{
 "cells": [
  {
   "cell_type": "markdown",
   "metadata": {},
   "source": [
    "[Open in Google Colab](https://colab.research.google.com/github/philipwalsh/ml-math-foundations/blob/master/lin-alg-2.ipynb)"
   ]
  },
  {
   "cell_type": "code",
   "execution_count": null,
   "metadata": {},
   "outputs": [],
   "source": [
    "# from odsc mini bootcamp ML Foundation Math\n",
    "# Jon Krohn live session\n",
    "# Algebra 1 - substitution"
   ]
  },
  {
   "cell_type": "code",
   "execution_count": null,
   "metadata": {},
   "outputs": [],
   "source": [
    "# example 1\n",
    "# equation 1: y=3x\n",
    "# equation 2: -5x+2y = 2\n",
    "# -5x+2(y)=2\n",
    "# -5x+2(3x)=2\n",
    "# -5x+6x=2\n",
    "# x=2\n",
    "# circle back to original y equation to solve for y\n",
    "# y=3(x), y=3(2), y=6\n",
    "#\n",
    "# (2,6) final answer"
   ]
  },
  {
   "cell_type": "code",
   "execution_count": null,
   "metadata": {},
   "outputs": [],
   "source": [
    "# example 2\n",
    "# equation 1: x+y=6, x=6-y\n",
    "# equation 2: 2x+3y=16, 2(6-y)+3y=16, 12-2y+3y=16, -2y+3y=4, y=4\n",
    "# circle back to eq1, x=6-y, x=6-(4), x=2\n",
    "# (2,4) answer\n",
    "# x+y=6 && 2x+3y=16\n",
    "# (2)+(4)=6 && 2(2)+3(4)=16\n",
    "# 6=6 && 16=16 both equation check out\n"
   ]
  },
  {
   "cell_type": "code",
   "execution_count": null,
   "metadata": {},
   "outputs": [],
   "source": [
    "# not all equations have an answer\n",
    "# 2 parallel lines are under represented, no way to get the point where they meet\n",
    "# 3 non parallel lines have more than one answer, over represented\n",
    "# y=4x+1\n",
    "# -4x+y=2, -4x+(4x+1) = 2, 1=2 (no, 1 does not equal 2, this is a bs solutions so it cant besolved linearly)"
   ]
  },
  {
   "cell_type": "code",
   "execution_count": null,
   "metadata": {},
   "outputs": [],
   "source": [
    "#\n",
    "# Algebra 1 - elimination\n",
    "#"
   ]
  },
  {
   "cell_type": "code",
   "execution_count": null,
   "metadata": {},
   "outputs": [],
   "source": [
    "# example 1\n",
    "# eq1: 2x-3y=15 \n",
    "# eq2: 4x+10y=14\n",
    "\n",
    "#multiply eq1 by -2\n",
    "\n",
    "#  -4x+6y=-30\n",
    "#  4x+10y=14\n",
    "# now add the 2 equations\n",
    "#     16y=-16\n",
    "#       y=-16/16\n",
    "#       y=-1\n",
    "# circle back\n",
    "#  2x-3(-1)=15\n",
    "#  2x+3=15\n",
    "#  2x=15-3\n",
    "#  2x=12\n",
    "#   x=12/2\n",
    "#   x=6\n",
    "# (6,-1) answer\n",
    "# 2(x)-3(y)=16, 2(6)-3(-1)=15, 12+3=15, 15=15 qed\n",
    "# 4(x)+10(y)=14, 4(6)+10(-1)=14, 24-10=14, 14=14 qed\n"
   ]
  },
  {
   "cell_type": "code",
   "execution_count": null,
   "metadata": {},
   "outputs": [],
   "source": []
  },
  {
   "cell_type": "code",
   "execution_count": null,
   "metadata": {},
   "outputs": [],
   "source": []
  },
  {
   "cell_type": "code",
   "execution_count": null,
   "metadata": {},
   "outputs": [],
   "source": []
  }
 ],
 "metadata": {
  "kernelspec": {
   "display_name": "py36stats",
   "language": "python",
   "name": "py36stats"
  },
  "language_info": {
   "codemirror_mode": {
    "name": "ipython",
    "version": 3
   },
   "file_extension": ".py",
   "mimetype": "text/x-python",
   "name": "python",
   "nbconvert_exporter": "python",
   "pygments_lexer": "ipython3",
   "version": "3.6.12"
  }
 },
 "nbformat": 4,
 "nbformat_minor": 4
}
